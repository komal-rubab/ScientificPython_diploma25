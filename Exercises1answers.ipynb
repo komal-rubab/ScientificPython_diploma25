{
 "cells": [
  {
   "cell_type": "code",
   "execution_count": 10,
   "id": "163bea65-3155-4f82-899a-24009b0fe6f3",
   "metadata": {},
   "outputs": [
    {
     "name": "stdin",
     "output_type": "stream",
     "text": [
      "Enter the value of a = 2\n",
      "Enter the value of b = 7\n",
      "Enter the value of c = 1\n"
     ]
    },
    {
     "name": "stdout",
     "output_type": "stream",
     "text": [
      "The value of x1 is -0.14921894064178787\n",
      "The value of x2 is -3.350781059358212\n"
     ]
    }
   ],
   "source": [
    "#Quadratic roots\n",
    "a = int(input('Enter the value of a ='))\n",
    "b = int(input('Enter the value of b ='))\n",
    "c = int(input('Enter the value of c ='))\n",
    "if a!=0:\n",
    " disc = (b**2)-(4*a*c)\n",
    " if disc>=0:\n",
    "  x1 = (-b + disc**0.5)/(2*a)\n",
    "  x2 = (-b - disc**0.5)/(2*a)\n",
    "  print('The value of x1 is',x1)\n",
    "  print('The value of x2 is',x2)\n",
    " else:\n",
    "  print('Roots are not real')\n",
    "else:\n",
    "  print('solution is undefined')\n",
    "#you can also do return in all if and else or elif\n"
   ]
  },
  {
   "cell_type": "code",
   "execution_count": 11,
   "id": "b03555f2-0bcb-4cfe-8a73-a1043b2caea8",
   "metadata": {},
   "outputs": [
    {
     "name": "stdin",
     "output_type": "stream",
     "text": [
      "Enter the value of a = 3\n",
      "Enter the value of b = 7\n",
      "Enter the value of c = 1\n"
     ]
    },
    {
     "name": "stdout",
     "output_type": "stream",
     "text": [
      "The value of x1 is -0.15287291161696345\n",
      "The value of x2 is -2.18046042171637\n"
     ]
    }
   ],
   "source": [
    "#Quadratic roots in function\n",
    "def f(a,b,c):\n",
    " if a!=0:\n",
    "  disc = (b**2)-(4*a*c)\n",
    "  if disc>=0:\n",
    "   x1 = (-b + disc**0.5)/(2*a)\n",
    "   x2 = (-b - disc**0.5)/(2*a)\n",
    "   print('The value of x1 is',x1)\n",
    "   print('The value of x2 is',x2)\n",
    "  else:\n",
    "   print('Roots are not real')\n",
    " else:\n",
    "   print('solution is undefined')\n",
    "\n",
    "a = int(input('Enter the value of a ='))\n",
    "b = int(input('Enter the value of b ='))\n",
    "c = int(input('Enter the value of c ='))\n",
    "f(a,b,c) \n"
   ]
  },
  {
   "cell_type": "code",
   "execution_count": 16,
   "id": "b75b2238-dcc5-4640-8525-82afc684da6f",
   "metadata": {},
   "outputs": [
    {
     "name": "stdin",
     "output_type": "stream",
     "text": [
      "Enter the value of n: 30\n"
     ]
    },
    {
     "name": "stdout",
     "output_type": "stream",
     "text": [
      "[0, 1, 3, 6, 2, 7, 13, 20, 12, 21, 11, 22, 10, 23, 9, 24, 8, 25, 43, 62, 42, 63, 41, 18, 42, 17, 43, 16, 44, 15]\n"
     ]
    }
   ],
   "source": [
    "#Recaman sequence with function\n",
    "def func_recaman(n):\n",
    " recaman = [0]\n",
    " for i in range (1,n):\n",
    "  y = recaman[-1]\n",
    "  x = y - i\n",
    "  if x>0 and x not in recaman:\n",
    "   recaman.append(x)\n",
    "  else:\n",
    "   x = y+i\n",
    "   recaman.append(x)\n",
    "   i=i+1\n",
    " print(recaman)\n",
    "\n",
    "n = int(input('Enter the value of n:'))\n",
    "func_recaman(n)    \n",
    "\n",
    "\n"
   ]
  },
  {
   "cell_type": "code",
   "execution_count": 9,
   "id": "70b1124e-7f75-4cea-a93b-1feea5a93db8",
   "metadata": {},
   "outputs": [
    {
     "name": "stdout",
     "output_type": "stream",
     "text": [
      "[234, 89, 77, 11, 1, 0, -99, -748]\n",
      "[234, 89, 77, 11, 1, 0, -99, -748]\n"
     ]
    }
   ],
   "source": [
    "#list in descending order but also modifies the actual list\n",
    "def reverse_func(mylist):\n",
    " #mylist2=list()\n",
    " for i in range (1,8):\n",
    "  x = mylist[i]\n",
    "  j = i\n",
    "  while j>0 and mylist[j-1]<x:\n",
    "   mylist[j]=mylist[j-1]\n",
    "   #a = mylist[j]\n",
    "   #print(a)\n",
    "   #mylist2.append(a)\n",
    "   j = j-1\n",
    "   mylist[j] = x\n",
    "   #b = x\n",
    "   #mylist2.append(b)\n",
    " print(mylist)\n",
    "\n",
    "mylist=[1,-99,89,0,234,77,-748,11]\n",
    "reverse_func(mylist)\n",
    "print(mylist)"
   ]
  },
  {
   "cell_type": "code",
   "execution_count": 11,
   "id": "1f195d46-c913-4305-91f6-e0744a4244fa",
   "metadata": {},
   "outputs": [
    {
     "name": "stdout",
     "output_type": "stream",
     "text": [
      "[234, 89, 77, 11, 1, 0, -99, -748]\n"
     ]
    }
   ],
   "source": [
    "#list in descending order but not modifying the actual list\n",
    "mylist=[1,-99,89,0,234,77,-748,11]\n",
    "mylist2 = sorted(mylist, reverse=True)\n",
    "print(mylist2)\n",
    "#or do the following without reverse=true\n",
    "#print(mylist2[::-1])"
   ]
  },
  {
   "cell_type": "code",
   "execution_count": 12,
   "id": "8c0c4ccc-6211-4c05-8e9c-246bd5943999",
   "metadata": {},
   "outputs": [
    {
     "name": "stdout",
     "output_type": "stream",
     "text": [
      "[11, 13, 3, 5]\n"
     ]
    }
   ],
   "source": [
    "a = [3, 2, 5, 11, 7, 13, 17, 19]\n",
    "b = [5, 3, 1, 15, 9, 11, 13, 11]\n",
    "c = list(set(a) & set(b))\n",
    "print(c)"
   ]
  },
  {
   "cell_type": "code",
   "execution_count": 22,
   "id": "855aaf2e-9471-4e8f-8f3f-5620f387b546",
   "metadata": {},
   "outputs": [
    {
     "name": "stdin",
     "output_type": "stream",
     "text": [
      "Enter an integer number 20\n"
     ]
    },
    {
     "name": "stdout",
     "output_type": "stream",
     "text": [
      "[(1, 20), (2, 10), (4, 5)]\n"
     ]
    }
   ],
   "source": [
    "def func_pairs(n):\n",
    " pairs = [(i,n//i) for i in range(1,n) if n%i==0]\n",
    " unique_pairs = [(i,j) for i,j in pairs if i<=j]\n",
    " print(unique_pairs)\n",
    "\n",
    "n = int(input('Enter an integer number'))\n",
    "func_pairs(n)"
   ]
  },
  {
   "cell_type": "code",
   "execution_count": 19,
   "id": "a6f416c5-4cde-4f7c-bee8-cf0e0553d8cb",
   "metadata": {},
   "outputs": [
    {
     "name": "stdout",
     "output_type": "stream",
     "text": [
      "[3, 6, 9, 12, 15, 18, 21, 24, 27, 30, 33, 36, 39, 42, 45, 48, 51, 54, 57, 60, 63, 66, 69, 72, 75, 78, 81, 84, 87, 90, 93, 96, 99, 102, 105, 108, 111, 114, 117, 120, 123, 126, 129, 132, 135, 138, 141, 144, 147, 150, 153, 156, 159, 162, 165, 168, 171, 174, 177, 180, 183, 186, 189, 192, 195, 198, 201, 204, 207, 210, 213, 216, 219, 222, 225, 228, 231, 234, 237, 240, 243, 246, 249, 252, 255, 258, 261, 264, 267, 270, 273, 276, 279, 282, 285, 288, 291, 294, 297, 300, 303, 306, 309, 312, 315, 318, 321, 324, 327, 330, 333, 336, 339, 342, 345, 348, 351, 354, 357, 360, 363, 366, 369, 372, 375, 378, 381, 384, 387, 390, 393, 396, 399, 402, 405, 408, 411, 414, 417, 420, 423, 426, 429, 432, 435, 438, 441, 444, 447, 450, 453, 456, 459, 462, 465, 468, 471, 474, 477, 480, 483, 486, 489, 492, 495, 498, 501, 504, 507, 510, 513, 516, 519, 522, 525, 528, 531, 534, 537, 540, 543, 546, 549, 552, 555, 558, 561, 564, 567, 570, 573, 576, 579, 582, 585, 588, 591, 594, 597, 600, 603, 606, 609, 612, 615, 618, 621, 624, 627, 630, 633, 636, 639, 642, 645, 648, 651, 654, 657, 660, 663, 666, 669, 672, 675, 678, 681, 684, 687, 690, 693, 696, 699, 702, 705, 708, 711, 714, 717, 720, 723, 726, 729, 732, 735, 738, 741, 744, 747, 750, 753, 756, 759, 762, 765, 768, 771, 774, 777, 780, 783, 786, 789, 792, 795, 798, 801, 804, 807, 810, 813, 816, 819, 822, 825, 828, 831, 834, 837, 840, 843, 846, 849, 852, 855, 858, 861, 864, 867, 870, 873, 876, 879, 882, 885, 888, 891, 894, 897, 900, 903, 906, 909, 912, 915, 918, 921, 924, 927, 930, 933, 936, 939, 942, 945, 948, 951, 954, 957, 960, 963, 966, 969, 972, 975, 978, 981, 984, 987, 990, 993, 996, 999]\n",
      "CPU times: user 125 μs, sys: 36 μs, total: 161 μs\n",
      "Wall time: 168 μs\n"
     ]
    }
   ],
   "source": [
    "%%time\n",
    "l = list()\n",
    "for i in range(1,1000):\n",
    " if i%3==0:\n",
    "  l.append(i)     \n",
    "print(l)\n",
    "\n",
    "\n",
    "\n",
    "\n"
   ]
  },
  {
   "cell_type": "code",
   "execution_count": 18,
   "id": "36af4857-3401-4bc5-ac86-6344c5776257",
   "metadata": {},
   "outputs": [
    {
     "name": "stdout",
     "output_type": "stream",
     "text": [
      "[3, 6, 9, 12, 15, 18, 21, 24, 27, 30, 33, 36, 39, 42, 45, 48, 51, 54, 57, 60, 63, 66, 69, 72, 75, 78, 81, 84, 87, 90, 93, 96, 99, 102, 105, 108, 111, 114, 117, 120, 123, 126, 129, 132, 135, 138, 141, 144, 147, 150, 153, 156, 159, 162, 165, 168, 171, 174, 177, 180, 183, 186, 189, 192, 195, 198, 201, 204, 207, 210, 213, 216, 219, 222, 225, 228, 231, 234, 237, 240, 243, 246, 249, 252, 255, 258, 261, 264, 267, 270, 273, 276, 279, 282, 285, 288, 291, 294, 297, 300, 303, 306, 309, 312, 315, 318, 321, 324, 327, 330, 333, 336, 339, 342, 345, 348, 351, 354, 357, 360, 363, 366, 369, 372, 375, 378, 381, 384, 387, 390, 393, 396, 399, 402, 405, 408, 411, 414, 417, 420, 423, 426, 429, 432, 435, 438, 441, 444, 447, 450, 453, 456, 459, 462, 465, 468, 471, 474, 477, 480, 483, 486, 489, 492, 495, 498, 501, 504, 507, 510, 513, 516, 519, 522, 525, 528, 531, 534, 537, 540, 543, 546, 549, 552, 555, 558, 561, 564, 567, 570, 573, 576, 579, 582, 585, 588, 591, 594, 597, 600, 603, 606, 609, 612, 615, 618, 621, 624, 627, 630, 633, 636, 639, 642, 645, 648, 651, 654, 657, 660, 663, 666, 669, 672, 675, 678, 681, 684, 687, 690, 693, 696, 699, 702, 705, 708, 711, 714, 717, 720, 723, 726, 729, 732, 735, 738, 741, 744, 747, 750, 753, 756, 759, 762, 765, 768, 771, 774, 777, 780, 783, 786, 789, 792, 795, 798, 801, 804, 807, 810, 813, 816, 819, 822, 825, 828, 831, 834, 837, 840, 843, 846, 849, 852, 855, 858, 861, 864, 867, 870, 873, 876, 879, 882, 885, 888, 891, 894, 897, 900, 903, 906, 909, 912, 915, 918, 921, 924, 927, 930, 933, 936, 939, 942, 945, 948, 951, 954, 957, 960, 963, 966, 969, 972, 975, 978, 981, 984, 987, 990, 993, 996, 999]\n",
      "CPU times: user 96 μs, sys: 27 μs, total: 123 μs\n",
      "Wall time: 129 μs\n"
     ]
    }
   ],
   "source": [
    "%%time\n",
    "l1 = [i for i in range(1,1000) if i%3==0]\n",
    "print(l1)\n"
   ]
  },
  {
   "cell_type": "code",
   "execution_count": 112,
   "id": "3272e140-c138-4b1d-a4d1-bc13c0a5df15",
   "metadata": {},
   "outputs": [
    {
     "name": "stdout",
     "output_type": "stream",
     "text": [
      "[3, 6, 9, 12, 15, 18, 21, 24, 27, 30, 33, 36, 39, 42, 45, 48, 51, 54, 57, 60, 63, 66, 69, 72, 75, 78, 81, 84, 87, 90, 93, 96, 99, 102, 105, 108, 111, 114, 117, 120, 123, 126, 129, 132, 135, 138, 141, 144, 147, 150, 153, 156, 159, 162, 165, 168, 171, 174, 177, 180, 183, 186, 189, 192, 195, 198, 201, 204, 207, 210, 213, 216, 219, 222, 225, 228, 231, 234, 237, 240, 243, 246, 249, 252, 255, 258, 261, 264, 267, 270, 273, 276, 279, 282, 285, 288, 291, 294, 297, 300, 303, 306, 309, 312, 315, 318, 321, 324, 327, 330, 333, 336, 339, 342, 345, 348, 351, 354, 357, 360, 363, 366, 369, 372, 375, 378, 381, 384, 387, 390, 393, 396, 399, 402, 405, 408, 411, 414, 417, 420, 423, 426, 429, 432, 435, 438, 441, 444, 447, 450, 453, 456, 459, 462, 465, 468, 471, 474, 477, 480, 483, 486, 489, 492, 495, 498, 501, 504, 507, 510, 513, 516, 519, 522, 525, 528, 531, 534, 537, 540, 543, 546, 549, 552, 555, 558, 561, 564, 567, 570, 573, 576, 579, 582, 585, 588, 591, 594, 597, 600, 603, 606, 609, 612, 615, 618, 621, 624, 627, 630, 633, 636, 639, 642, 645, 648, 651, 654, 657, 660, 663, 666, 669, 672, 675, 678, 681, 684, 687, 690, 693, 696, 699, 702, 705, 708, 711, 714, 717, 720, 723, 726, 729, 732, 735, 738, 741, 744, 747, 750, 753, 756, 759, 762, 765, 768, 771, 774, 777, 780, 783, 786, 789, 792, 795, 798, 801, 804, 807, 810, 813, 816, 819, 822, 825, 828, 831, 834, 837, 840, 843, 846, 849, 852, 855, 858, 861, 864, 867, 870, 873, 876, 879, 882, 885, 888, 891, 894, 897, 900, 903, 906, 909, 912, 915, 918, 921, 924, 927, 930, 933, 936, 939, 942, 945, 948, 951, 954, 957, 960, 963, 966, 969, 972, 975, 978, 981, 984, 987, 990, 993, 996, 999]\n",
      "CPU times: user 331 μs, sys: 0 ns, total: 331 μs\n",
      "Wall time: 339 μs\n"
     ]
    }
   ],
   "source": [
    "%%time\n",
    "l2 = list()\n",
    "for i in range(1,2000):\n",
    " if i%3==0:\n",
    "  l2.append(i)     \n",
    "print([i for i in l2 if i<=1000])"
   ]
  },
  {
   "cell_type": "code",
   "execution_count": 24,
   "id": "7b47855e-674a-41d1-814b-46821497d7b8",
   "metadata": {},
   "outputs": [
    {
     "name": "stdout",
     "output_type": "stream",
     "text": [
      "[0, 3, 6, 9, 12, 15, 18, 21, 24, 27, 30, 33, 36, 39, 42, 45, 48, 51, 54, 57, 60, 63, 66, 69, 72, 75, 78, 81, 84, 87, 90, 93, 96, 99, 102, 105, 108, 111, 114, 117, 120, 123, 126, 129, 132, 135, 138, 141, 144, 147, 150, 153, 156, 159, 162, 165, 168, 171, 174, 177, 180, 183, 186, 189, 192, 195, 198, 201, 204, 207, 210, 213, 216, 219, 222, 225, 228, 231, 234, 237, 240, 243, 246, 249, 252, 255, 258, 261, 264, 267, 270, 273, 276, 279, 282, 285, 288, 291, 294, 297, 300, 303, 306, 309, 312, 315, 318, 321, 324, 327, 330, 333, 336, 339, 342, 345, 348, 351, 354, 357, 360, 363, 366, 369, 372, 375, 378, 381, 384, 387, 390, 393, 396, 399, 402, 405, 408, 411, 414, 417, 420, 423, 426, 429, 432, 435, 438, 441, 444, 447, 450, 453, 456, 459, 462, 465, 468, 471, 474, 477, 480, 483, 486, 489, 492, 495, 498, 501, 504, 507, 510, 513, 516, 519, 522, 525, 528, 531, 534, 537, 540, 543, 546, 549, 552, 555, 558, 561, 564, 567, 570, 573, 576, 579, 582, 585, 588, 591, 594, 597, 600, 603, 606, 609, 612, 615, 618, 621, 624, 627, 630, 633, 636, 639, 642, 645, 648, 651, 654, 657, 660, 663, 666, 669, 672, 675, 678, 681, 684, 687, 690, 693, 696, 699, 702, 705, 708, 711, 714, 717, 720, 723, 726, 729, 732, 735, 738, 741, 744, 747, 750, 753, 756, 759, 762, 765, 768, 771, 774, 777, 780, 783, 786, 789, 792, 795, 798, 801, 804, 807, 810, 813, 816, 819, 822, 825, 828, 831, 834, 837, 840, 843, 846, 849, 852, 855, 858, 861, 864, 867, 870, 873, 876, 879, 882, 885, 888, 891, 894, 897, 900, 903, 906, 909, 912, 915, 918, 921, 924, 927, 930, 933, 936, 939, 942, 945, 948, 951, 954, 957, 960, 963, 966, 969, 972, 975, 978, 981, 984, 987, 990, 993, 996, 999]\n"
     ]
    }
   ],
   "source": [
    "l3=list(range(0,1000,3))\n",
    "print(l3)"
   ]
  },
  {
   "cell_type": "code",
   "execution_count": 25,
   "id": "cba4c58f-ea21-4a5c-88d9-5873942b2679",
   "metadata": {},
   "outputs": [
    {
     "name": "stdout",
     "output_type": "stream",
     "text": [
      "It is a palindrome\n"
     ]
    }
   ],
   "source": [
    "def func_palindrome(s):\n",
    " \n",
    " s1 = s.replace(\" \",\"\")\n",
    " s2 = s1.lower()\n",
    " reverse_s = s2[::-1]\n",
    " if reverse_s==s2:\n",
    "  print(\"It is a palindrome\")\n",
    " else:\n",
    "  print(\"not a palindrome\")\n",
    "\n",
    "s = 'Sit on a potato pan Otis'\n",
    "func_palindrome(s)\n"
   ]
  },
  {
   "cell_type": "code",
   "execution_count": 39,
   "id": "e1eb278d-72f4-49ac-b324-5c06cc89a936",
   "metadata": {},
   "outputs": [
    {
     "name": "stdout",
     "output_type": "stream",
     "text": [
      "(' ', 7)\n"
     ]
    }
   ],
   "source": [
    "def max_occ(s):\n",
    " return max([(i, s.count(i)) for i in set(s.lower())], key=lambda x: x[1])\n",
    "    \n",
    "a = 'She saw sea shells on the sea shore'\n",
    "print(max_occ(a))\n",
    "\n"
   ]
  },
  {
   "cell_type": "code",
   "execution_count": null,
   "id": "7cc783c6-783c-428c-9422-fccd8b74ffb2",
   "metadata": {},
   "outputs": [],
   "source": []
  }
 ],
 "metadata": {
  "kernelspec": {
   "display_name": "Python [conda env:my_new_env] *",
   "language": "python",
   "name": "conda-env-my_new_env-py"
  },
  "language_info": {
   "codemirror_mode": {
    "name": "ipython",
    "version": 3
   },
   "file_extension": ".py",
   "mimetype": "text/x-python",
   "name": "python",
   "nbconvert_exporter": "python",
   "pygments_lexer": "ipython3",
   "version": "3.11.11"
  }
 },
 "nbformat": 4,
 "nbformat_minor": 5
}
